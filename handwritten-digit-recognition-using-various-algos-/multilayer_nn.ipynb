{
 "cells": [
  {
   "cell_type": "code",
   "execution_count": 24,
   "metadata": {},
   "outputs": [],
   "source": [
    "from keras.datasets import mnist\n",
    "from keras.models import Sequential\n",
    "from keras.layers import Dense\n",
    "from keras.layers import Dropout\n",
    "from keras.utils import np_utils"
   ]
  },
  {
   "cell_type": "code",
   "execution_count": 25,
   "metadata": {},
   "outputs": [],
   "source": [
    "# load data\n",
    "(X_train, y_train), (X_test, y_test) = mnist.load_data()"
   ]
  },
  {
   "cell_type": "code",
   "execution_count": 26,
   "metadata": {},
   "outputs": [],
   "source": [
    "# flatten 28*28 images to a 784 vector for each image\n",
    "num_pixels = X_train.shape[1] * X_train.shape[2]\n",
    "X_train = X_train.reshape((X_train.shape[0], num_pixels)).astype('float32')\n",
    "X_test = X_test.reshape((X_test.shape[0], num_pixels)).astype('float32')"
   ]
  },
  {
   "cell_type": "code",
   "execution_count": 27,
   "metadata": {},
   "outputs": [],
   "source": [
    "# normalize inputs from 0-255 to 0-1 greyscale has 0-255 pixel values\n",
    "X_train = X_train / 255\n",
    "X_test = X_test / 255"
   ]
  },
  {
   "cell_type": "code",
   "execution_count": 28,
   "metadata": {},
   "outputs": [],
   "source": [
    "# to convert integer vector class to binary matrix\n",
    "# one hot encode outputs\n",
    "y_train = np_utils.to_categorical(y_train)\n",
    "y_test = np_utils.to_categorical(y_test)\n",
    "num_classes = y_test.shape[1]"
   ]
  },
  {
   "cell_type": "markdown",
   "metadata": {},
   "source": [
    "define baseline model\n",
    " We are now ready to create our simple neural network model. We will define our model in a function. This is handy if you want to extend the example later and try and get a better score"
   ]
  },
  {
   "cell_type": "code",
   "execution_count": 29,
   "metadata": {},
   "outputs": [],
   "source": [
    "def baseline_model():\n",
    "    #create model\n",
    "    model=Sequential()\n",
    "    model.add(Dense(num_pixels,input_dim=num_pixels,kernel_initializer='normal',activation='relu'))\n",
    "    model.add(Dense(num_classes,kernel_initializer='normal',activation='softmax'))\n",
    "    # compile model\n",
    "    model.compile(loss='categorical_crossentropy',optimizer='adam',metrics=['accuracy'])\n",
    "    return model"
   ]
  },
  {
   "cell_type": "markdown",
   "metadata": {},
   "source": [
    "the test dataset is used to evaluate the model and a classification error rate is printed."
   ]
  },
  {
   "cell_type": "code",
   "execution_count": 36,
   "metadata": {},
   "outputs": [
    {
     "name": "stdout",
     "output_type": "stream",
     "text": [
      "Train on 60000 samples, validate on 10000 samples\n",
      "Epoch 1/10\n",
      " - 6s - loss: 0.2756 - accuracy: 0.9215 - val_loss: 0.1341 - val_accuracy: 0.9620\n",
      "Epoch 2/10\n",
      " - 6s - loss: 0.1103 - accuracy: 0.9679 - val_loss: 0.0981 - val_accuracy: 0.9701\n",
      "Epoch 3/10\n",
      " - 6s - loss: 0.0727 - accuracy: 0.9786 - val_loss: 0.0798 - val_accuracy: 0.9758\n",
      "Epoch 4/10\n",
      " - 6s - loss: 0.0504 - accuracy: 0.9855 - val_loss: 0.0723 - val_accuracy: 0.9761\n",
      "Epoch 5/10\n",
      " - 6s - loss: 0.0362 - accuracy: 0.9897 - val_loss: 0.0662 - val_accuracy: 0.9784\n",
      "Epoch 6/10\n",
      " - 6s - loss: 0.0277 - accuracy: 0.9930 - val_loss: 0.0660 - val_accuracy: 0.9795\n",
      "Epoch 7/10\n",
      " - 6s - loss: 0.0202 - accuracy: 0.9949 - val_loss: 0.0598 - val_accuracy: 0.9814\n",
      "Epoch 8/10\n",
      " - 6s - loss: 0.0147 - accuracy: 0.9964 - val_loss: 0.0661 - val_accuracy: 0.9793\n",
      "Epoch 9/10\n",
      " - 6s - loss: 0.0110 - accuracy: 0.9977 - val_loss: 0.0590 - val_accuracy: 0.9828\n",
      "Epoch 10/10\n",
      " - 6s - loss: 0.0085 - accuracy: 0.9984 - val_loss: 0.0634 - val_accuracy: 0.9811\n",
      "baseline error: 1.89%\n"
     ]
    }
   ],
   "source": [
    "# build the  model\n",
    "model=baseline_model()\n",
    "# fit the model\n",
    "model.fit(X_train,y_train,validation_data=(X_test,y_test),epochs=10,batch_size=200,verbose=2)\n",
    "# final evaluation of the mmodel\n",
    "scores=model.evaluate(X_test,y_test,verbose=0)\n",
    "print(\"baseline error: %.2f%%\" % (100-scores[1]*100))\n",
    "    "
   ]
  },
  {
   "cell_type": "code",
   "execution_count": null,
   "metadata": {},
   "outputs": [],
   "source": []
  },
  {
   "cell_type": "code",
   "execution_count": null,
   "metadata": {},
   "outputs": [],
   "source": []
  }
 ],
 "metadata": {
  "kernelspec": {
   "display_name": "Python 3",
   "language": "python",
   "name": "python3"
  },
  "language_info": {
   "codemirror_mode": {
    "name": "ipython",
    "version": 3
   },
   "file_extension": ".py",
   "mimetype": "text/x-python",
   "name": "python",
   "nbconvert_exporter": "python",
   "pygments_lexer": "ipython3",
   "version": "3.7.4"
  }
 },
 "nbformat": 4,
 "nbformat_minor": 2
}
